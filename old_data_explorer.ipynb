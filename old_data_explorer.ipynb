{
  "cells": [
    {
      "cell_type": "code",
      "source": [
        "%matplotlib inline\n",
        "%load_ext autoreload\n",
        "%autoreload 2"
      ],
      "outputs": [],
      "execution_count": 1,
      "metadata": {
        "collapsed": false,
        "outputHidden": false,
        "inputHidden": false
      }
    },
    {
      "cell_type": "code",
      "source": [
        "from bs4 import BeautifulSoup\n",
        "import matplotlib.pyplot as plt\n",
        "from data_analysis import *"
      ],
      "outputs": [],
      "execution_count": 19,
      "metadata": {
        "collapsed": false,
        "outputHidden": false,
        "inputHidden": false
      }
    },
    {
      "cell_type": "code",
      "source": [
        "df = load_file('5G0G6PsD9V_AuE1AfVSBX.tcx')\n",
        "# df = load_file('Afternoon_Ride.gpx')\n",
        "df['5-second Watts'] = get_ns_power(df, 5)\n",
        "plt.plot(df.index, df['Watts'], label='Power')\n",
        "plt.plot(df.index, df['5-second Watts'], label='5-second power')\n",
        "plt.legend();"
      ],
      "outputs": [
        {
          "output_type": "display_data",
          "data": {
            "text/plain": [
              "<Figure size 432x288 with 1 Axes>"
            ],
            "image/png": "[encoded data removed]"
          },
          "metadata": {
            "needs_background": "light"
          }
        }
      ],
      "execution_count": 23,
      "metadata": {
        "collapsed": false,
        "outputHidden": false,
        "inputHidden": false
      }
    },
    {
      "cell_type": "code",
      "source": [
        "import numpy as np\n",
        "import pandas as pd\n",
        "import matplotlib.pyplot as plt\n",
        "import tcx_data_analysis as tda\n",
        "import gpx_data_analysis as gda"
      ],
      "outputs": [],
      "execution_count": 4,
      "metadata": {
        "collapsed": false,
        "outputHidden": false,
        "inputHidden": false
      }
    },
    {
      "cell_type": "markdown",
      "source": [
        "Load in the TCX file as a pandas DataFrame:"
      ],
      "metadata": {
        "collapsed": false,
        "outputHidden": false,
        "inputHidden": false
      }
    },
    {
      "cell_type": "code",
      "source": [
        "fname = '5G0G6PsD9V_BPks5swZpa.tcx'"
      ],
      "outputs": [],
      "execution_count": 5,
      "metadata": {
        "collapsed": false,
        "outputHidden": false,
        "inputHidden": false,
        "tags": [
          "parameters"
        ]
      }
    },
    {
      "cell_type": "code",
      "source": [
        "if fname.split('.')[-1] == 'tcx':\n",
        "    df = tda.tcx_to_dataframe(fname)\n",
        "elif fname.split('.')[-1] == 'gpx':\n",
        "    df = gda.gpx_to_dataframe(fname)"
      ],
      "outputs": [],
      "execution_count": 6,
      "metadata": {
        "collapsed": false,
        "outputHidden": false,
        "inputHidden": false
      }
    },
    {
      "cell_type": "code",
      "source": [
        "df.sample(10)"
      ],
      "outputs": [
        {
          "output_type": "execute_result",
          "execution_count": 7,
          "data": {
            "text/plain": [
              "                    time  power  cadence  speed     hr  distance\n",
              "501  2019-01-30 15:01:02  163.0     92.0   9.54  153.0   4400.98\n",
              "132  2019-01-30 14:54:53   93.0     79.0   7.74  126.0   1046.77\n",
              "441  2019-01-30 15:00:02  221.0     97.0  10.66  147.0   3812.89\n",
              "536  2019-01-30 15:01:37  160.0     93.0   9.46  153.0   4731.45\n",
              "194  2019-01-30 14:55:55  130.0     89.0   8.78  130.0   1575.77\n",
              "162  2019-01-30 14:55:23  117.0     83.0   8.42  130.0   1299.60\n",
              "1104 2019-01-30 15:11:45  114.0     80.0   8.34  171.0  10244.03\n",
              "1637 2019-01-30 15:21:40   31.0     75.0   5.16  158.0  15101.85\n",
              "841  2019-01-30 15:06:42  356.0    104.0  12.72  155.0   7518.01\n",
              "1144 2019-01-30 15:12:25  108.0     86.0   8.18  161.0  10571.31"
            ],
            "text/html": [
              "<div>\n",
              "<style scoped>\n",
              "    .dataframe tbody tr th:only-of-type {\n",
              "        vertical-align: middle;\n",
              "    }\n",
              "\n",
              "    .dataframe tbody tr th {\n",
              "        vertical-align: top;\n",
              "    }\n",
              "\n",
              "    .dataframe thead th {\n",
              "        text-align: right;\n",
              "    }\n",
              "</style>\n",
              "<table border=\"1\" class=\"dataframe\">\n",
              "  <thead>\n",
              "    <tr style=\"text-align: right;\">\n",
              "      <th></th>\n",
              "      <th>time</th>\n",
              "      <th>power</th>\n",
              "      <th>cadence</th>\n",
              "      <th>speed</th>\n",
              "      <th>hr</th>\n",
              "      <th>distance</th>\n",
              "    </tr>\n",
              "  </thead>\n",
              "  <tbody>\n",
              "    <tr>\n",
              "      <th>501</th>\n",
              "      <td>2019-01-30 15:01:02</td>\n",
              "      <td>163.0</td>\n",
              "      <td>92.0</td>\n",
              "      <td>9.54</td>\n",
              "      <td>153.0</td>\n",
              "      <td>4400.98</td>\n",
              "    </tr>\n",
              "    <tr>\n",
              "      <th>132</th>\n",
              "      <td>2019-01-30 14:54:53</td>\n",
              "      <td>93.0</td>\n",
              "      <td>79.0</td>\n",
              "      <td>7.74</td>\n",
              "      <td>126.0</td>\n",
              "      <td>1046.77</td>\n",
              "    </tr>\n",
              "    <tr>\n",
              "      <th>441</th>\n",
              "      <td>2019-01-30 15:00:02</td>\n",
              "      <td>221.0</td>\n",
              "      <td>97.0</td>\n",
              "      <td>10.66</td>\n",
              "      <td>147.0</td>\n",
              "      <td>3812.89</td>\n",
              "    </tr>\n",
              "    <tr>\n",
              "      <th>536</th>\n",
              "      <td>2019-01-30 15:01:37</td>\n",
              "      <td>160.0</td>\n",
              "      <td>93.0</td>\n",
              "      <td>9.46</td>\n",
              "      <td>153.0</td>\n",
              "      <td>4731.45</td>\n",
              "    </tr>\n",
              "    <tr>\n",
              "      <th>194</th>\n",
              "      <td>2019-01-30 14:55:55</td>\n",
              "      <td>130.0</td>\n",
              "      <td>89.0</td>\n",
              "      <td>8.78</td>\n",
              "      <td>130.0</td>\n",
              "      <td>1575.77</td>\n",
              "    </tr>\n",
              "    <tr>\n",
              "      <th>162</th>\n",
              "      <td>2019-01-30 14:55:23</td>\n",
              "      <td>117.0</td>\n",
              "      <td>83.0</td>\n",
              "      <td>8.42</td>\n",
              "      <td>130.0</td>\n",
              "      <td>1299.60</td>\n",
              "    </tr>\n",
              "    <tr>\n",
              "      <th>1104</th>\n",
              "      <td>2019-01-30 15:11:45</td>\n",
              "      <td>114.0</td>\n",
              "      <td>80.0</td>\n",
              "      <td>8.34</td>\n",
              "      <td>171.0</td>\n",
              "      <td>10244.03</td>\n",
              "    </tr>\n",
              "    <tr>\n",
              "      <th>1637</th>\n",
              "      <td>2019-01-30 15:21:40</td>\n",
              "      <td>31.0</td>\n",
              "      <td>75.0</td>\n",
              "      <td>5.16</td>\n",
              "      <td>158.0</td>\n",
              "      <td>15101.85</td>\n",
              "    </tr>\n",
              "    <tr>\n",
              "      <th>841</th>\n",
              "      <td>2019-01-30 15:06:42</td>\n",
              "      <td>356.0</td>\n",
              "      <td>104.0</td>\n",
              "      <td>12.72</td>\n",
              "      <td>155.0</td>\n",
              "      <td>7518.01</td>\n",
              "    </tr>\n",
              "    <tr>\n",
              "      <th>1144</th>\n",
              "      <td>2019-01-30 15:12:25</td>\n",
              "      <td>108.0</td>\n",
              "      <td>86.0</td>\n",
              "      <td>8.18</td>\n",
              "      <td>161.0</td>\n",
              "      <td>10571.31</td>\n",
              "    </tr>\n",
              "  </tbody>\n",
              "</table>\n",
              "</div>"
            ]
          },
          "metadata": {}
        }
      ],
      "execution_count": 7,
      "metadata": {
        "collapsed": false,
        "outputHidden": false,
        "inputHidden": false
      }
    },
    {
      "cell_type": "markdown",
      "source": [
        "Group data points into minutes, and calculate the mean of each minute:"
      ],
      "metadata": {
        "collapsed": false,
        "outputHidden": false,
        "inputHidden": false
      }
    },
    {
      "cell_type": "code",
      "source": [
        "df['binned_time'] = df['time'].astype('datetime64[m]')\n",
        "df_mean = df.groupby('binned_time').mean()\n",
        "df_mean.head()"
      ],
      "outputs": [
        {
          "output_type": "execute_result",
          "execution_count": 8,
          "data": {
            "text/plain": [
              "                          power    cadence     speed          hr     distance\n",
              "binned_time                                                                  \n",
              "2019-01-30 14:52:00   85.947368  63.157895  7.516842  109.105263    78.497368\n",
              "2019-01-30 14:53:00   96.616667  72.700000  7.849667  118.283333   386.459500\n",
              "2019-01-30 14:54:00  100.950000  78.750000  7.969000  123.283333   856.532000\n",
              "2019-01-30 14:55:00  121.733333  85.600000  8.550667  129.250000  1354.806667\n",
              "2019-01-30 14:56:00  137.266667  90.266667  8.939667  135.566667  1882.524833"
            ],
            "text/html": [
              "<div>\n",
              "<style scoped>\n",
              "    .dataframe tbody tr th:only-of-type {\n",
              "        vertical-align: middle;\n",
              "    }\n",
              "\n",
              "    .dataframe tbody tr th {\n",
              "        vertical-align: top;\n",
              "    }\n",
              "\n",
              "    .dataframe thead th {\n",
              "        text-align: right;\n",
              "    }\n",
              "</style>\n",
              "<table border=\"1\" class=\"dataframe\">\n",
              "  <thead>\n",
              "    <tr style=\"text-align: right;\">\n",
              "      <th></th>\n",
              "      <th>power</th>\n",
              "      <th>cadence</th>\n",
              "      <th>speed</th>\n",
              "      <th>hr</th>\n",
              "      <th>distance</th>\n",
              "    </tr>\n",
              "    <tr>\n",
              "      <th>binned_time</th>\n",
              "      <th></th>\n",
              "      <th></th>\n",
              "      <th></th>\n",
              "      <th></th>\n",
              "      <th></th>\n",
              "    </tr>\n",
              "  </thead>\n",
              "  <tbody>\n",
              "    <tr>\n",
              "      <th>2019-01-30 14:52:00</th>\n",
              "      <td>85.947368</td>\n",
              "      <td>63.157895</td>\n",
              "      <td>7.516842</td>\n",
              "      <td>109.105263</td>\n",
              "      <td>78.497368</td>\n",
              "    </tr>\n",
              "    <tr>\n",
              "      <th>2019-01-30 14:53:00</th>\n",
              "      <td>96.616667</td>\n",
              "      <td>72.700000</td>\n",
              "      <td>7.849667</td>\n",
              "      <td>118.283333</td>\n",
              "      <td>386.459500</td>\n",
              "    </tr>\n",
              "    <tr>\n",
              "      <th>2019-01-30 14:54:00</th>\n",
              "      <td>100.950000</td>\n",
              "      <td>78.750000</td>\n",
              "      <td>7.969000</td>\n",
              "      <td>123.283333</td>\n",
              "      <td>856.532000</td>\n",
              "    </tr>\n",
              "    <tr>\n",
              "      <th>2019-01-30 14:55:00</th>\n",
              "      <td>121.733333</td>\n",
              "      <td>85.600000</td>\n",
              "      <td>8.550667</td>\n",
              "      <td>129.250000</td>\n",
              "      <td>1354.806667</td>\n",
              "    </tr>\n",
              "    <tr>\n",
              "      <th>2019-01-30 14:56:00</th>\n",
              "      <td>137.266667</td>\n",
              "      <td>90.266667</td>\n",
              "      <td>8.939667</td>\n",
              "      <td>135.566667</td>\n",
              "      <td>1882.524833</td>\n",
              "    </tr>\n",
              "  </tbody>\n",
              "</table>\n",
              "</div>"
            ]
          },
          "metadata": {}
        }
      ],
      "execution_count": 8,
      "metadata": {
        "collapsed": false,
        "outputHidden": false,
        "inputHidden": false
      }
    },
    {
      "cell_type": "code",
      "source": [
        "times = df_mean.index\n",
        "power = df_mean['power'].values\n",
        "plt.plot(df['time'], df['power'], label='Unbinned')\n",
        "plt.plot(times, power, label='Binned')\n",
        "plt.legend(); None"
      ],
      "outputs": [
        {
          "output_type": "stream",
          "name": "stderr",
          "text": [
            "/Users/tlingard/anaconda3/lib/python3.6/site-packages/pandas/plotting/_converter.py:129: FutureWarning: Using an implicitly registered datetime converter for a matplotlib plotting method. The converter was registered by pandas on import. Future versions of pandas will require you to explicitly register matplotlib converters.\n",
            "\n",
            "To register the converters:\n",
            "\t>>> from pandas.plotting import register_matplotlib_converters\n",
            "\t>>> register_matplotlib_converters()\n",
            "  warnings.warn(msg, FutureWarning)\n"
          ]
        },
        {
          "output_type": "display_data",
          "data": {
            "text/plain": [
              "<Figure size 432x288 with 1 Axes>"
            ],
            "image/png": "[encoded data removed]"
          },
          "metadata": {
            "needs_background": "light"
          }
        }
      ],
      "execution_count": 9,
      "metadata": {
        "collapsed": false,
        "outputHidden": false,
        "inputHidden": false
      }
    },
    {
      "cell_type": "markdown",
      "source": [
        "Let's make a power curve (lowest resolution of one minute)..."
      ],
      "metadata": {
        "collapsed": false,
        "outputHidden": false,
        "inputHidden": false
      }
    },
    {
      "cell_type": "code",
      "source": [
        "n_minute_power = tda.get_power_curve(power, min_n=1, max_n=60)\n",
        "plt.plot(range(1, 61), n_minute_power)\n",
        "plt.xlabel('Number of minutes held')\n",
        "plt.ylabel('Mean power'); None"
      ],
      "outputs": [
        {
          "output_type": "display_data",
          "data": {
            "text/plain": [
              "<Figure size 432x288 with 1 Axes>"
            ],
            "image/png": "[encoded data removed]"
          },
          "metadata": {
            "needs_background": "light"
          }
        }
      ],
      "execution_count": 10,
      "metadata": {
        "collapsed": false,
        "outputHidden": false,
        "inputHidden": false
      }
    },
    {
      "cell_type": "markdown",
      "source": [
        "We can go to better resolution, if we interpolate the dataset. First we need to reindex by time and check for duplicates (where we've got more than one value recored for a given second). We'll keep the mean value"
      ],
      "metadata": {
        "collapsed": false,
        "outputHidden": false,
        "inputHidden": false
      }
    },
    {
      "cell_type": "code",
      "source": [
        "time_indexed_df = df.set_index('time')\n",
        "duplicate_indices = time_indexed_df.index[time_indexed_df.index.duplicated('first')]\n",
        "duplicate_means = time_indexed_df[time_indexed_df.index.duplicated(False)].groupby('time').mean()\n",
        "time_indexed_df = pd.concat((\n",
        "    time_indexed_df[~time_indexed_df.index.duplicated(False)],\n",
        "    duplicate_means\n",
        "), sort=True)"
      ],
      "outputs": [],
      "execution_count": 11,
      "metadata": {
        "collapsed": false,
        "outputHidden": false,
        "inputHidden": false
      }
    },
    {
      "cell_type": "code",
      "source": [
        "all_times = np.arange(df['time'].values[0], df['time'].values[-1] + 1, dtype='datetime64[s]')"
      ],
      "outputs": [],
      "execution_count": 12,
      "metadata": {
        "collapsed": false,
        "outputHidden": false,
        "inputHidden": false
      }
    },
    {
      "cell_type": "code",
      "source": [
        "df_interpolated = time_indexed_df.reindex(all_times).interpolate('linear')\n",
        "df_interpolated.head()"
      ],
      "outputs": [
        {
          "output_type": "execute_result",
          "execution_count": 13,
          "data": {
            "text/plain": [
              "                            binned_time  cadence  distance     hr  power  \\\n",
              "time                                                                       \n",
              "2019-01-30 14:52:41 2019-01-30 14:52:00     60.0      7.11  109.0   74.0   \n",
              "2019-01-30 14:52:42 2019-01-30 14:52:00     60.0     21.57  109.0   78.0   \n",
              "2019-01-30 14:52:43 2019-01-30 14:52:00     62.0     28.85  108.0   85.0   \n",
              "2019-01-30 14:52:44 2019-01-30 14:52:00     63.0     36.03  108.0   85.0   \n",
              "2019-01-30 14:52:45 2019-01-30 14:52:00     63.0     43.19  106.0   84.0   \n",
              "\n",
              "                     speed  \n",
              "time                        \n",
              "2019-01-30 14:52:41   7.11  \n",
              "2019-01-30 14:52:42   7.27  \n",
              "2019-01-30 14:52:43   7.50  \n",
              "2019-01-30 14:52:44   7.49  \n",
              "2019-01-30 14:52:45   7.45  "
            ],
            "text/html": [
              "<div>\n",
              "<style scoped>\n",
              "    .dataframe tbody tr th:only-of-type {\n",
              "        vertical-align: middle;\n",
              "    }\n",
              "\n",
              "    .dataframe tbody tr th {\n",
              "        vertical-align: top;\n",
              "    }\n",
              "\n",
              "    .dataframe thead th {\n",
              "        text-align: right;\n",
              "    }\n",
              "</style>\n",
              "<table border=\"1\" class=\"dataframe\">\n",
              "  <thead>\n",
              "    <tr style=\"text-align: right;\">\n",
              "      <th></th>\n",
              "      <th>binned_time</th>\n",
              "      <th>cadence</th>\n",
              "      <th>distance</th>\n",
              "      <th>hr</th>\n",
              "      <th>power</th>\n",
              "      <th>speed</th>\n",
              "    </tr>\n",
              "    <tr>\n",
              "      <th>time</th>\n",
              "      <th></th>\n",
              "      <th></th>\n",
              "      <th></th>\n",
              "      <th></th>\n",
              "      <th></th>\n",
              "      <th></th>\n",
              "    </tr>\n",
              "  </thead>\n",
              "  <tbody>\n",
              "    <tr>\n",
              "      <th>2019-01-30 14:52:41</th>\n",
              "      <td>2019-01-30 14:52:00</td>\n",
              "      <td>60.0</td>\n",
              "      <td>7.11</td>\n",
              "      <td>109.0</td>\n",
              "      <td>74.0</td>\n",
              "      <td>7.11</td>\n",
              "    </tr>\n",
              "    <tr>\n",
              "      <th>2019-01-30 14:52:42</th>\n",
              "      <td>2019-01-30 14:52:00</td>\n",
              "      <td>60.0</td>\n",
              "      <td>21.57</td>\n",
              "      <td>109.0</td>\n",
              "      <td>78.0</td>\n",
              "      <td>7.27</td>\n",
              "    </tr>\n",
              "    <tr>\n",
              "      <th>2019-01-30 14:52:43</th>\n",
              "      <td>2019-01-30 14:52:00</td>\n",
              "      <td>62.0</td>\n",
              "      <td>28.85</td>\n",
              "      <td>108.0</td>\n",
              "      <td>85.0</td>\n",
              "      <td>7.50</td>\n",
              "    </tr>\n",
              "    <tr>\n",
              "      <th>2019-01-30 14:52:44</th>\n",
              "      <td>2019-01-30 14:52:00</td>\n",
              "      <td>63.0</td>\n",
              "      <td>36.03</td>\n",
              "      <td>108.0</td>\n",
              "      <td>85.0</td>\n",
              "      <td>7.49</td>\n",
              "    </tr>\n",
              "    <tr>\n",
              "      <th>2019-01-30 14:52:45</th>\n",
              "      <td>2019-01-30 14:52:00</td>\n",
              "      <td>63.0</td>\n",
              "      <td>43.19</td>\n",
              "      <td>106.0</td>\n",
              "      <td>84.0</td>\n",
              "      <td>7.45</td>\n",
              "    </tr>\n",
              "  </tbody>\n",
              "</table>\n",
              "</div>"
            ]
          },
          "metadata": {}
        }
      ],
      "execution_count": 13,
      "metadata": {
        "collapsed": false,
        "outputHidden": false,
        "inputHidden": false
      }
    },
    {
      "cell_type": "markdown",
      "source": [
        "Does this interpolated plot look about right?"
      ],
      "metadata": {
        "collapsed": false,
        "outputHidden": false,
        "inputHidden": false
      }
    },
    {
      "cell_type": "code",
      "source": [
        "plt.plot(df_interpolated.index, df_interpolated['power'])"
      ],
      "outputs": [
        {
          "output_type": "execute_result",
          "execution_count": 14,
          "data": {
            "text/plain": [
              "[<matplotlib.lines.Line2D at 0x1c1ab678d0>]"
            ]
          },
          "metadata": {}
        },
        {
          "output_type": "display_data",
          "data": {
            "text/plain": [
              "<Figure size 432x288 with 1 Axes>"
            ],
            "image/png": "[encoded data removed]"
          },
          "metadata": {
            "needs_background": "light"
          }
        }
      ],
      "execution_count": 14,
      "metadata": {
        "collapsed": false,
        "outputHidden": false,
        "inputHidden": false
      }
    },
    {
      "cell_type": "code",
      "source": [
        "t_to_calc = np.arange(1, 3601)\n",
        "n_second_power = tda.get_power_curve(\n",
        "    df_interpolated['power'].values,\n",
        "    t_to_calc[0], t_to_calc[-1]\n",
        ")\n",
        "plt.plot(t_to_calc, n_second_power)\n",
        "plt.xlabel('Time')\n",
        "plt.ylabel('Mean power')\n",
        "plt.xscale('log')\n",
        "plt.xticks(\n",
        "  [1, 5, 15, 30, 60, 5*60, 10 * 60, 20 * 60, 60 * 60],\n",
        "  ['1s', '5s', '30s', '1m', '5m', '10m', '20m', '1h']\n",
        ");"
      ],
      "outputs": [
        {
          "output_type": "display_data",
          "data": {
            "text/plain": [
              "<Figure size 432x288 with 1 Axes>"
            ],
            "image/png": "[encoded data removed]"
          },
          "metadata": {
            "needs_background": "light"
          }
        }
      ],
      "execution_count": 15,
      "metadata": {
        "collapsed": false,
        "outputHidden": false,
        "inputHidden": false
      }
    },
    {
      "cell_type": "code",
      "source": [
        "print('1 second power:  {:.0f}W'.format(\n",
        "    n_second_power[np.where(t_to_calc == 1)][0]\n",
        "))\n",
        "print('5 second power:  {:.0f}W'.format(\n",
        "    n_second_power[np.where(t_to_calc == 5)][0]\n",
        "))\n",
        "print('30 second power: {:.0f}W'.format(\n",
        "    n_second_power[np.where(t_to_calc == 30)][0]\n",
        "))\n",
        "print('1 minute power:  {:.0f}W'.format(\n",
        "    n_second_power[np.where(t_to_calc == 60)][0]\n",
        "))\n",
        "print('5 minute power:  {:.0f}W'.format(\n",
        "    n_second_power[np.where(t_to_calc == 5*60)][0]\n",
        "))\n",
        "print('20 minute power: {:.0f}W'.format(\n",
        "    n_second_power[np.where(t_to_calc == 20*60)][0]\n",
        "))"
      ],
      "outputs": [
        {
          "output_type": "stream",
          "name": "stdout",
          "text": [
            "1 second power:  686W\n",
            "5 second power:  575W\n",
            "30 second power: 430W\n",
            "1 minute power:  402W\n",
            "5 minute power:  209W\n",
            "20 minute power: 167W\n"
          ]
        }
      ],
      "execution_count": 16,
      "metadata": {
        "collapsed": false,
        "outputHidden": false,
        "inputHidden": false
      }
    },
    {
      "cell_type": "markdown",
      "source": [
        "And what about the watts per kilo?"
      ],
      "metadata": {
        "collapsed": false,
        "outputHidden": false,
        "inputHidden": false
      }
    },
    {
      "cell_type": "code",
      "source": [
        "weight = 72 # kg"
      ],
      "outputs": [],
      "execution_count": 17,
      "metadata": {
        "collapsed": false,
        "outputHidden": false,
        "inputHidden": false
      }
    },
    {
      "cell_type": "code",
      "source": [
        "print('1 second W/kg:  {:.2f} W/kg'.format(\n",
        "    n_second_power[np.where(t_to_calc == 1)][0]/weight\n",
        "))\n",
        "print('5 second W/kg:  {:.2f} W/kg'.format(\n",
        "    n_second_power[np.where(t_to_calc == 5)][0]/weight\n",
        "))\n",
        "print('30 second W/kg: {:.2f} W/kg'.format(\n",
        "    n_second_power[np.where(t_to_calc == 30)][0]/weight\n",
        "))\n",
        "print('1 minute W/kg:  {:.2f} W/kg'.format(\n",
        "    n_second_power[np.where(t_to_calc == 60)][0]/weight\n",
        "))\n",
        "print('5 minute W/kg:  {:.2f} W/kg'.format(\n",
        "    n_second_power[np.where(t_to_calc == 5*60)][0]/weight\n",
        "))\n",
        "print('20 minute W/kg: {:.2f} W/kg'.format(\n",
        "    n_second_power[np.where(t_to_calc == 20*60)][0]/weight\n",
        "))"
      ],
      "outputs": [
        {
          "output_type": "stream",
          "name": "stdout",
          "text": [
            "1 second W/kg:  9.53 W/kg\n",
            "5 second W/kg:  7.99 W/kg\n",
            "30 second W/kg: 5.98 W/kg\n",
            "1 minute W/kg:  5.59 W/kg\n",
            "5 minute W/kg:  2.90 W/kg\n",
            "20 minute W/kg: 2.31 W/kg\n"
          ]
        }
      ],
      "execution_count": 18,
      "metadata": {
        "collapsed": false,
        "outputHidden": false,
        "inputHidden": false
      }
    }
  ],
  "metadata": {
    "kernel_info": {
      "name": "python3"
    },
    "language_info": {
      "name": "python",
      "version": "3.6.7",
      "mimetype": "text/x-python",
      "codemirror_mode": {
        "name": "ipython",
        "version": 3
      },
      "pygments_lexer": "ipython3",
      "nbconvert_exporter": "python",
      "file_extension": ".py"
    },
    "kernelspec": {
      "name": "python3",
      "language": "python",
      "display_name": "Python 3"
    },
    "nteract": {
      "version": "0.14.0"
    }
  },
  "nbformat": 4,
  "nbformat_minor": 4
}